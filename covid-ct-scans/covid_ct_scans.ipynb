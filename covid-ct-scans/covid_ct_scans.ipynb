{
  "nbformat": 4,
  "nbformat_minor": 0,
  "metadata": {
    "colab": {
      "name": "covid-ct-scans.ipynb",
      "provenance": []
    },
    "kernelspec": {
      "name": "python3",
      "display_name": "Python 3"
    },
    "language_info": {
      "name": "python"
    },
    "accelerator": "GPU"
  },
  "cells": [
    {
      "cell_type": "markdown",
      "metadata": {
        "id": "svgXw4WkQj6T"
      },
      "source": [
        "# 1: Data Collection & Splitting\n",
        "## Function Catalog\n",
        "1. From splitfolders\n",
        "    - `splitfolders.ratio()` splits data in a folder into train, val and test set according to ratio specified"
      ]
    },
    {
      "cell_type": "code",
      "metadata": {
        "id": "4AZ8_2QP_DBH",
        "colab": {
          "base_uri": "https://localhost:8080/"
        },
        "outputId": "3c322ff6-f842-44bf-e590-e88e11d7e765"
      },
      "source": [
        "# data source: https://github.com/UCSD-AI4H/COVID-CT\n",
        "# directory setting: data folder containing COVID and nonCOVID folders containing images\n",
        "!pip install split-folders\n",
        "import splitfolders\n",
        "splitfolders.ratio(input = \"/content/drive/MyDrive/Personal Projects/Covid CT Scans/data\",\n",
        "                    output = \"/content/drive/MyDrive/Personal Projects/Covid CT Scans/output\", \n",
        "                    seed = 2021,\n",
        "                    ratio = (0.7, 0.15, 0.15)) # train, val, test\n",
        "# creates folder output with train, val, test folder, each containing COVID and nonCOVID folders with their respective images"
      ],
      "execution_count": 4,
      "outputs": [
        {
          "output_type": "stream",
          "text": [
            "Collecting split-folders\n",
            "  Downloading split_folders-0.4.3-py3-none-any.whl (7.4 kB)\n",
            "Installing collected packages: split-folders\n",
            "Successfully installed split-folders-0.4.3\n"
          ],
          "name": "stdout"
        },
        {
          "output_type": "stream",
          "text": [
            "Copying files: 746 files [04:00,  3.10 files/s]\n"
          ],
          "name": "stderr"
        }
      ]
    },
    {
      "cell_type": "markdown",
      "metadata": {
        "id": "CAs80YwJQqIq"
      },
      "source": [
        "# 2: Model Training & Evaluation\n",
        "## Function Catalog\n",
        "1. From tensorflow:\n",
        "    Model Architecture\n",
        "    - `Densenet169()` is a pre-trained model that can be used for transfer learning\n",
        "    - `GlobalAveragePooling2D()`, `Dropout()` and `Dense()` are layers\n",
        "    - `Model()` grouplayers into an object with training and inference features\n",
        "    Data Augmentation\n",
        "    - `ImageDataGenerator()` generates batches of tensor images with real time augmentation (1 aug for 1 pic)\n",
        "        - `.flow_from_directory()`, `ImageDataGenerator.flow_from_directory.classes()`\n",
        "    Callbacks\n",
        "    - `EarlyStopping()` stops training model when monitored metric has stopped improving\n",
        "    - `ModelCheckpoint()` callback to save keras model or its weight at some freqeuncy specified\n",
        "    - `history.epoch()` returns number of epochs model underwent\n",
        "    - `history.history()` returns dictionary with keys eg loss\n",
        "    Training & Evaluation\n",
        "    - `model.compile()`, `model.fit()`, `model.predict()`. `Adam()`, `confusion_matrix()`, `classification_report()`, `plt.plot`\n",
        "    Others\n",
        "    - `np.argmax` returns the indices of the maximum values along an axis"
      ]
    },
    {
      "cell_type": "markdown",
      "metadata": {
        "id": "yfnQgi5CQulG"
      },
      "source": [
        "## Build Model Architecture"
      ]
    },
    {
      "cell_type": "code",
      "metadata": {
        "id": "Y8mRYVRRQrPo"
      },
      "source": [
        "# import dependencies\n",
        "import keras\n",
        "import tensorflow\n",
        "import matplotlib.pyplot as plt\n",
        "from tensorflow.keras.layers import Dense, GlobalAveragePooling2D, Dropout\n",
        "from tensorflow.keras.applications import densenet\n",
        "from tensorflow.keras.preprocessing.image import ImageDataGenerator\n",
        "from tensorflow.keras.models import Model\n",
        "from tensorflow.keras.optimizers import Adam\n",
        "from tensorflow.keras.callbacks import ModelCheckpoint, EarlyStopping\n",
        "from sklearn.metrics import confusion_matrix, classification_report\n",
        "import numpy as np"
      ],
      "execution_count": 5,
      "outputs": []
    },
    {
      "cell_type": "code",
      "metadata": {
        "colab": {
          "base_uri": "https://localhost:8080/"
        },
        "id": "lj2i7q8iQyHr",
        "outputId": "7ab43318-c731-4a8a-8e99-88ef1d08026e"
      },
      "source": [
        "# transfer learning\n",
        "base_model = densenet.DenseNet169(weights = \"imagenet\", include_top = False)\n",
        "# model pre-trained on the imagenet dataset\n",
        "# build output layers\n",
        "x = base_model.output\n",
        "x = GlobalAveragePooling2D()(x)\n",
        "x = Dropout(0.5)(x)\n",
        "preds = Dense(2, activation = \"sigmoid\")(x)\n",
        "# create full model\n",
        "model = Model(inputs = base_model.input, outputs = preds)"
      ],
      "execution_count": 6,
      "outputs": [
        {
          "output_type": "stream",
          "text": [
            "Downloading data from https://storage.googleapis.com/tensorflow/keras-applications/densenet/densenet169_weights_tf_dim_ordering_tf_kernels_notop.h5\n",
            "51879936/51877672 [==============================] - 1s 0us/step\n"
          ],
          "name": "stdout"
        }
      ]
    },
    {
      "cell_type": "markdown",
      "metadata": {
        "id": "5-sb8ZOsQz2p"
      },
      "source": [
        "## Data Augmentation"
      ]
    },
    {
      "cell_type": "code",
      "metadata": {
        "colab": {
          "base_uri": "https://localhost:8080/"
        },
        "id": "f29wR6WFQ0m-",
        "outputId": "2945704e-ab29-4e47-fa93-528c24f9befd"
      },
      "source": [
        "# batch size\n",
        "BATCH_SIZE = 16\n",
        "# ImageGenerator object\n",
        "train_datagen = ImageDataGenerator(rescale = 1./255, \n",
        "                                    shear_range = 0.2, \n",
        "                                    zoom_range = 0.2, \n",
        "                                    brightness_range = [0.2, 1.0], \n",
        "                                    horizontal_flip = True)\n",
        "test_datagen = ImageDataGenerator(rescale = 1./255)\n",
        "# create generators\n",
        "train_generator = train_datagen.flow_from_directory(\"/content/drive/MyDrive/Personal Projects/Covid CT Scans/output/train\", \n",
        "                                                    target_size = (480, 480), \n",
        "                                                    color_mode = \"rgb\",\n",
        "                                                    batch_size = BATCH_SIZE, \n",
        "                                                    class_mode = \"categorical\", \n",
        "                                                    shuffle = True)\n",
        "val_generator = train_datagen.flow_from_directory(\"/content/drive/MyDrive/Personal Projects/Covid CT Scans/output/val\", \n",
        "                                                    target_size = (480, 480), \n",
        "                                                    color_mode = \"rgb\",\n",
        "                                                    batch_size = BATCH_SIZE, \n",
        "                                                    class_mode = \"categorical\", \n",
        "                                                    shuffle = True)\n",
        "test_generator = train_datagen.flow_from_directory(\"/content/drive/MyDrive/Personal Projects/Covid CT Scans/output/test\", \n",
        "                                                    target_size = (480, 480), \n",
        "                                                    color_mode = \"rgb\",\n",
        "                                                    batch_size = BATCH_SIZE, \n",
        "                                                    class_mode = \"categorical\", \n",
        "                                                    shuffle = False)"
      ],
      "execution_count": 7,
      "outputs": [
        {
          "output_type": "stream",
          "text": [
            "Found 521 images belonging to 2 classes.\n",
            "Found 111 images belonging to 2 classes.\n",
            "Found 114 images belonging to 2 classes.\n"
          ],
          "name": "stdout"
        }
      ]
    },
    {
      "cell_type": "markdown",
      "metadata": {
        "id": "UKbQmTobQ4Ws"
      },
      "source": [
        "## Model Training"
      ]
    },
    {
      "cell_type": "code",
      "metadata": {
        "id": "uQGXD2GBQ4q1"
      },
      "source": [
        "# callbacks\n",
        "es = EarlyStopping(monitor = \"val_loss\", patience = 3)\n",
        "mc = ModelCheckpoint(\"/content/drive/MyDrive/Personal Projects/Covid CT Scans/best_model.h5\", \n",
        "                    save_best_only = True)"
      ],
      "execution_count": 8,
      "outputs": []
    },
    {
      "cell_type": "code",
      "metadata": {
        "id": "I0ebxMR5Q7aD"
      },
      "source": [
        "# compile model for training\n",
        "model.compile(optimizer = Adam(learning_rate = 0.0001),\n",
        "                loss = \"binary_crossentropy\",\n",
        "                metrics = [\"accuracy\"])"
      ],
      "execution_count": 9,
      "outputs": []
    },
    {
      "cell_type": "code",
      "metadata": {
        "colab": {
          "base_uri": "https://localhost:8080/"
        },
        "id": "HNYGhe0YQ9AH",
        "outputId": "7659bed3-2d45-4fba-938b-be8443d2961a"
      },
      "source": [
        "# model training\n",
        "history = model.fit(train_generator, \n",
        "                        steps_per_epoch = train_generator.samples // BATCH_SIZE,\n",
        "                        validation_data = val_generator, \n",
        "                        validation_steps = val_generator.samples // BATCH_SIZE,\n",
        "                        epochs = 50,\n",
        "                        callbacks = [es, mc])"
      ],
      "execution_count": 10,
      "outputs": [
        {
          "output_type": "stream",
          "text": [
            "Epoch 1/50\n",
            "32/32 [==============================] - 109s 2s/step - loss: 0.6345 - accuracy: 0.6792 - val_loss: 0.6449 - val_accuracy: 0.6875\n",
            "Epoch 2/50\n",
            "32/32 [==============================] - 46s 1s/step - loss: 0.4149 - accuracy: 0.8297 - val_loss: 0.4693 - val_accuracy: 0.8021\n",
            "Epoch 3/50\n",
            "32/32 [==============================] - 46s 1s/step - loss: 0.3371 - accuracy: 0.8673 - val_loss: 0.4983 - val_accuracy: 0.7292\n",
            "Epoch 4/50\n",
            "32/32 [==============================] - 47s 1s/step - loss: 0.2719 - accuracy: 0.8970 - val_loss: 0.3877 - val_accuracy: 0.8542\n",
            "Epoch 5/50\n",
            "32/32 [==============================] - 48s 1s/step - loss: 0.2348 - accuracy: 0.9043 - val_loss: 0.3693 - val_accuracy: 0.8125\n",
            "Epoch 6/50\n",
            "32/32 [==============================] - 47s 1s/step - loss: 0.1649 - accuracy: 0.9426 - val_loss: 0.3484 - val_accuracy: 0.8438\n",
            "Epoch 7/50\n",
            "32/32 [==============================] - 46s 1s/step - loss: 0.1370 - accuracy: 0.9584 - val_loss: 0.3014 - val_accuracy: 0.9062\n",
            "Epoch 8/50\n",
            "32/32 [==============================] - 47s 1s/step - loss: 0.1203 - accuracy: 0.9604 - val_loss: 0.4730 - val_accuracy: 0.7708\n",
            "Epoch 9/50\n",
            "32/32 [==============================] - 47s 1s/step - loss: 0.1190 - accuracy: 0.9663 - val_loss: 0.3597 - val_accuracy: 0.8333\n",
            "Epoch 10/50\n",
            "32/32 [==============================] - 47s 1s/step - loss: 0.1047 - accuracy: 0.9604 - val_loss: 0.2148 - val_accuracy: 0.9167\n",
            "Epoch 11/50\n",
            "32/32 [==============================] - 47s 1s/step - loss: 0.1534 - accuracy: 0.9485 - val_loss: 0.1868 - val_accuracy: 0.9167\n",
            "Epoch 12/50\n",
            "32/32 [==============================] - 47s 1s/step - loss: 0.0714 - accuracy: 0.9802 - val_loss: 0.2051 - val_accuracy: 0.9271\n",
            "Epoch 13/50\n",
            "32/32 [==============================] - 48s 1s/step - loss: 0.0606 - accuracy: 0.9802 - val_loss: 0.2610 - val_accuracy: 0.8750\n",
            "Epoch 14/50\n",
            "32/32 [==============================] - 47s 1s/step - loss: 0.0798 - accuracy: 0.9703 - val_loss: 0.6839 - val_accuracy: 0.8229\n"
          ],
          "name": "stdout"
        }
      ]
    },
    {
      "cell_type": "markdown",
      "metadata": {
        "id": "ts1fE0vgQ-sR"
      },
      "source": [
        "## Model Evaluation"
      ]
    },
    {
      "cell_type": "code",
      "metadata": {
        "colab": {
          "base_uri": "https://localhost:8080/",
          "height": 284
        },
        "id": "SDf3GuWyRAsF",
        "outputId": "0e60dbda-fdd9-4e20-c569-47bb596a3b70"
      },
      "source": [
        "# evaluate loss\n",
        "plt.plot(history.epoch, history.history[\"loss\"])\n",
        "plt.plot(history.epoch, history.history[\"val_loss\"], color = \"orange\")"
      ],
      "execution_count": 12,
      "outputs": [
        {
          "output_type": "execute_result",
          "data": {
            "text/plain": [
              "[<matplotlib.lines.Line2D at 0x7fc9543ae1d0>]"
            ]
          },
          "metadata": {
            "tags": []
          },
          "execution_count": 12
        },
        {
          "output_type": "display_data",
          "data": {
            "image/png": "[encoded data removed]",
            "text/plain": [
              "<Figure size 432x288 with 1 Axes>"
            ]
          },
          "metadata": {
            "tags": [],
            "needs_background": "light"
          }
        }
      ]
    },
    {
      "cell_type": "code",
      "metadata": {
        "colab": {
          "base_uri": "https://localhost:8080/",
          "height": 284
        },
        "id": "hwtsGXrTc31q",
        "outputId": "4706d719-77c2-439d-d82e-4ee8421d705b"
      },
      "source": [
        "# evaluate accuracy\n",
        "plt.plot(history.epoch, history.history[\"accuracy\"])\n",
        "plt.plot(history.epoch, history.history[\"val_accuracy\"], color = \"orange\")"
      ],
      "execution_count": 13,
      "outputs": [
        {
          "output_type": "execute_result",
          "data": {
            "text/plain": [
              "[<matplotlib.lines.Line2D at 0x7fc954417750>]"
            ]
          },
          "metadata": {
            "tags": []
          },
          "execution_count": 13
        },
        {
          "output_type": "display_data",
          "data": {
            "image/png": "[encoded data removed]",
            "text/plain": [
              "<Figure size 432x288 with 1 Axes>"
            ]
          },
          "metadata": {
            "tags": [],
            "needs_background": "light"
          }
        }
      ]
    },
    {
      "cell_type": "code",
      "metadata": {
        "colab": {
          "base_uri": "https://localhost:8080/"
        },
        "id": "1VOFOdlbRC7E",
        "outputId": "3bd9f74e-61e0-493b-9df2-e48808e98470"
      },
      "source": [
        "# test model\n",
        "test_generator.classes\n",
        "# make prediction using test data'\n",
        "predictions = model.predict(test_generator)\n",
        "predictions\n",
        "# use np to get predicted classes\n",
        "single_pred = np.argmax(predictions, axis = 1)\n",
        "print(confusion_matrix(test_generator.classes, single_pred))\n",
        "print(classification_report(test_generator.classes, single_pred))"
      ],
      "execution_count": 15,
      "outputs": [
        {
          "output_type": "stream",
          "text": [
            "[[31 22]\n",
            " [ 0 61]]\n",
            "              precision    recall  f1-score   support\n",
            "\n",
            "           0       1.00      0.58      0.74        53\n",
            "           1       0.73      1.00      0.85        61\n",
            "\n",
            "    accuracy                           0.81       114\n",
            "   macro avg       0.87      0.79      0.79       114\n",
            "weighted avg       0.86      0.81      0.80       114\n",
            "\n"
          ],
          "name": "stdout"
        }
      ]
    },
    {
      "cell_type": "markdown",
      "metadata": {
        "id": "mUbbp4pjRHIN"
      },
      "source": [
        "## Best Model"
      ]
    },
    {
      "cell_type": "code",
      "metadata": {
        "colab": {
          "base_uri": "https://localhost:8080/"
        },
        "id": "Ebz54sujRJHz",
        "outputId": "24aeeda4-b928-4a5c-86ef-cd1ba76f5df0"
      },
      "source": [
        "# use best model\n",
        "from keras.models import load_model\n",
        "saved_model = load_model(\"/content/drive/MyDrive/Personal Projects/Covid CT Scans/best_model.h5\")\n",
        "saved_model"
      ],
      "execution_count": 18,
      "outputs": [
        {
          "output_type": "execute_result",
          "data": {
            "text/plain": [
              "<keras.engine.functional.Functional at 0x7fc5847b34d0>"
            ]
          },
          "metadata": {
            "tags": []
          },
          "execution_count": 18
        }
      ]
    },
    {
      "cell_type": "code",
      "metadata": {
        "id": "5-vT2-xIloSz"
      },
      "source": [
        "saved_model_predictions = saved_model.predict(test_generator)\n",
        "# returns probabilities"
      ],
      "execution_count": null,
      "outputs": []
    },
    {
      "cell_type": "code",
      "metadata": {
        "id": "wkRc2-Atl8Vx"
      },
      "source": [
        "save_single_pred = np.argmax(saved_model_predictions, axis = 1)\n",
        "# choose class with highest probability\n",
        "save_single_pred"
      ],
      "execution_count": null,
      "outputs": []
    },
    {
      "cell_type": "code",
      "metadata": {
        "id": "Cymv7QYSlySq"
      },
      "source": [
        "print(save_single_pred)\n",
        "print(confusion_matrix(test_generator.classes, save_single_pred))\n",
        "print(classification_report(test_generator.classes, save_single_pred))"
      ],
      "execution_count": null,
      "outputs": []
    },
    {
      "cell_type": "markdown",
      "metadata": {
        "id": "kymSTxbuRKnr"
      },
      "source": [
        "# FIN\n",
        "The project is completed with guidance from *[Advanced] Project COVID-CT Scans* free course on UpLevelSG.\n",
        "\n",
        "Areas of Improvements:\n",
        "- Try different pre-trained models & Add additional layers to pre-trained model\n",
        "- Change dropout layer, optimizer (adam), learning rate, batch size etc.\n",
        "- Add things author mentioned in research paper eg. cosine annealing, random contrast augmentation etc."
      ]
    }
  ]
}